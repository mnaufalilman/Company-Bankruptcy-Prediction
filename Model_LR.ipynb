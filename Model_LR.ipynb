{
 "cells": [
  {
   "cell_type": "code",
   "execution_count": 11,
   "metadata": {},
   "outputs": [],
   "source": [
    "import pandas as pd\n",
    "from sklearn.model_selection import train_test_split\n",
    "from sklearn.linear_model import LogisticRegression\n",
    "from sklearn.metrics import accuracy_score\n",
    "from sklearn.metrics import confusion_matrix, classification_report\n",
    "import joblib"
   ]
  },
  {
   "cell_type": "code",
   "execution_count": 12,
   "metadata": {},
   "outputs": [
    {
     "data": {
      "text/html": [
       "<div>\n",
       "<style scoped>\n",
       "    .dataframe tbody tr th:only-of-type {\n",
       "        vertical-align: middle;\n",
       "    }\n",
       "\n",
       "    .dataframe tbody tr th {\n",
       "        vertical-align: top;\n",
       "    }\n",
       "\n",
       "    .dataframe thead th {\n",
       "        text-align: right;\n",
       "    }\n",
       "</style>\n",
       "<table border=\"1\" class=\"dataframe\">\n",
       "  <thead>\n",
       "    <tr style=\"text-align: right;\">\n",
       "      <th></th>\n",
       "      <th>Bankrupt?</th>\n",
       "      <th>Current Ratio</th>\n",
       "      <th>Retained Earnings to Total Assets</th>\n",
       "      <th>ROA(C) before interest and depreciation before interest</th>\n",
       "      <th>Net worth/Assets</th>\n",
       "    </tr>\n",
       "  </thead>\n",
       "  <tbody>\n",
       "    <tr>\n",
       "      <th>0</th>\n",
       "      <td>1</td>\n",
       "      <td>0.002259</td>\n",
       "      <td>0.903225</td>\n",
       "      <td>0.370594</td>\n",
       "      <td>0.792424</td>\n",
       "    </tr>\n",
       "    <tr>\n",
       "      <th>1</th>\n",
       "      <td>1</td>\n",
       "      <td>0.006016</td>\n",
       "      <td>0.931065</td>\n",
       "      <td>0.464291</td>\n",
       "      <td>0.828824</td>\n",
       "    </tr>\n",
       "    <tr>\n",
       "      <th>2</th>\n",
       "      <td>1</td>\n",
       "      <td>0.011543</td>\n",
       "      <td>0.909903</td>\n",
       "      <td>0.426071</td>\n",
       "      <td>0.792484</td>\n",
       "    </tr>\n",
       "    <tr>\n",
       "      <th>3</th>\n",
       "      <td>1</td>\n",
       "      <td>0.004194</td>\n",
       "      <td>0.906902</td>\n",
       "      <td>0.399844</td>\n",
       "      <td>0.848535</td>\n",
       "    </tr>\n",
       "    <tr>\n",
       "      <th>4</th>\n",
       "      <td>1</td>\n",
       "      <td>0.006022</td>\n",
       "      <td>0.913850</td>\n",
       "      <td>0.465022</td>\n",
       "      <td>0.893491</td>\n",
       "    </tr>\n",
       "    <tr>\n",
       "      <th>5</th>\n",
       "      <td>1</td>\n",
       "      <td>0.002740</td>\n",
       "      <td>0.903041</td>\n",
       "      <td>0.388680</td>\n",
       "      <td>0.819573</td>\n",
       "    </tr>\n",
       "    <tr>\n",
       "      <th>6</th>\n",
       "      <td>1</td>\n",
       "      <td>0.004292</td>\n",
       "      <td>0.908948</td>\n",
       "      <td>0.416126</td>\n",
       "      <td>0.780391</td>\n",
       "    </tr>\n",
       "    <tr>\n",
       "      <th>7</th>\n",
       "      <td>1</td>\n",
       "      <td>0.002124</td>\n",
       "      <td>0.868461</td>\n",
       "      <td>0.462195</td>\n",
       "      <td>0.771110</td>\n",
       "    </tr>\n",
       "    <tr>\n",
       "      <th>8</th>\n",
       "      <td>1</td>\n",
       "      <td>0.003198</td>\n",
       "      <td>0.920882</td>\n",
       "      <td>0.453030</td>\n",
       "      <td>0.789642</td>\n",
       "    </tr>\n",
       "    <tr>\n",
       "      <th>9</th>\n",
       "      <td>1</td>\n",
       "      <td>0.002891</td>\n",
       "      <td>0.912826</td>\n",
       "      <td>0.472091</td>\n",
       "      <td>0.764701</td>\n",
       "    </tr>\n",
       "  </tbody>\n",
       "</table>\n",
       "</div>"
      ],
      "text/plain": [
       "   Bankrupt?   Current Ratio   Retained Earnings to Total Assets  \\\n",
       "0          1        0.002259                            0.903225   \n",
       "1          1        0.006016                            0.931065   \n",
       "2          1        0.011543                            0.909903   \n",
       "3          1        0.004194                            0.906902   \n",
       "4          1        0.006022                            0.913850   \n",
       "5          1        0.002740                            0.903041   \n",
       "6          1        0.004292                            0.908948   \n",
       "7          1        0.002124                            0.868461   \n",
       "8          1        0.003198                            0.920882   \n",
       "9          1        0.002891                            0.912826   \n",
       "\n",
       "    ROA(C) before interest and depreciation before interest   Net worth/Assets  \n",
       "0                                           0.370594                  0.792424  \n",
       "1                                           0.464291                  0.828824  \n",
       "2                                           0.426071                  0.792484  \n",
       "3                                           0.399844                  0.848535  \n",
       "4                                           0.465022                  0.893491  \n",
       "5                                           0.388680                  0.819573  \n",
       "6                                           0.416126                  0.780391  \n",
       "7                                           0.462195                  0.771110  \n",
       "8                                           0.453030                  0.789642  \n",
       "9                                           0.472091                  0.764701  "
      ]
     },
     "execution_count": 12,
     "metadata": {},
     "output_type": "execute_result"
    }
   ],
   "source": [
    "# Load Dataset\n",
    "dataset = pd.read_csv(\"../resources/UAS.csv\", sep=\",\")\n",
    "dataset.head(10)\n",
    "# Bankrupt = 0 means no\n",
    "# Bankrupt = 0 means yes"
   ]
  },
  {
   "cell_type": "code",
   "execution_count": 13,
   "metadata": {},
   "outputs": [
    {
     "name": "stdout",
     "output_type": "stream",
     "text": [
      "Jumlah Missing Value pada Setiap Kolom:\n",
      "Bankrupt?                                                   0\n",
      " Current Ratio                                              0\n",
      " Retained Earnings to Total Assets                          0\n",
      " ROA(C) before interest and depreciation before interest    0\n",
      " Net worth/Assets                                           0\n",
      "dtype: int64\n",
      "Total Jumlah Missing Value pada Dataset: 0\n"
     ]
    }
   ],
   "source": [
    "# Cek missing value pada setiap kolom\n",
    "missing_values = dataset.isnull().sum()\n",
    "print(\"Jumlah Missing Value pada Setiap Kolom:\")\n",
    "print(missing_values)\n",
    "\n",
    "# Cek total missing value pada dataset\n",
    "total_missing = dataset.isnull().sum().sum()\n",
    "print(\"Total Jumlah Missing Value pada Dataset:\", total_missing)"
   ]
  },
  {
   "cell_type": "code",
   "execution_count": 14,
   "metadata": {},
   "outputs": [
    {
     "name": "stdout",
     "output_type": "stream",
     "text": [
      "Akurasi model: 0.8194444444444444\n"
     ]
    }
   ],
   "source": [
    "# Pisahkan fitur dan label\n",
    "X = dataset.drop('Bankrupt?', axis=1)\n",
    "y = dataset['Bankrupt?']\n",
    "\n",
    "# Split data menjadi data latih dan data uji\n",
    "X_train, X_test, y_train, y_test = train_test_split(X, y, test_size=0.2, random_state=42)\n",
    "\n",
    "# Inisialisasi dan latih model Regresi Logistik\n",
    "logreg_model = LogisticRegression()\n",
    "logreg_model.fit(X_train, y_train)\n",
    "\n",
    "# Evaluasi model menggunakan data uji\n",
    "y_pred = logreg_model.predict(X_test)\n",
    "accuracy = accuracy_score(y_test, y_pred)\n",
    "print(\"Akurasi model:\", accuracy)"
   ]
  },
  {
   "cell_type": "code",
   "execution_count": 15,
   "metadata": {},
   "outputs": [
    {
     "name": "stdout",
     "output_type": "stream",
     "text": [
      "              precision    recall  f1-score   support\n",
      "\n",
      "           0       0.81      1.00      0.90       171\n",
      "           1       1.00      0.13      0.24        45\n",
      "\n",
      "    accuracy                           0.82       216\n",
      "   macro avg       0.91      0.57      0.57       216\n",
      "weighted avg       0.85      0.82      0.76       216\n",
      "\n"
     ]
    }
   ],
   "source": [
    "print(classification_report(y_test, y_pred))"
   ]
  },
  {
   "cell_type": "code",
   "execution_count": 16,
   "metadata": {},
   "outputs": [
    {
     "name": "stdout",
     "output_type": "stream",
     "text": [
      "[[171   0]\n",
      " [ 39   6]]\n"
     ]
    }
   ],
   "source": [
    "cm = confusion_matrix(y_test, y_pred)\n",
    "print(cm)"
   ]
  },
  {
   "cell_type": "code",
   "execution_count": 17,
   "metadata": {},
   "outputs": [
    {
     "data": {
      "text/plain": [
       "['../model_saved/logistic_regression_model.sav']"
      ]
     },
     "execution_count": 17,
     "metadata": {},
     "output_type": "execute_result"
    }
   ],
   "source": [
    "# Simpan model ke file .sav\n",
    "joblib.dump(logreg_model, '../model_saved/logistic_regression_model.sav')"
   ]
  },
  {
   "cell_type": "code",
   "execution_count": 18,
   "metadata": {},
   "outputs": [
    {
     "data": {
      "text/plain": [
       "['../model_saved/logistic_regression_model.pkl']"
      ]
     },
     "execution_count": 18,
     "metadata": {},
     "output_type": "execute_result"
    }
   ],
   "source": [
    "# Simpan model dalam file .pkl\n",
    "joblib.dump(logreg_model, '../model_saved/logistic_regression_model.pkl')"
   ]
  }
 ],
 "metadata": {
  "kernelspec": {
   "display_name": "Python 3",
   "language": "python",
   "name": "python3"
  },
  "language_info": {
   "codemirror_mode": {
    "name": "ipython",
    "version": 3
   },
   "file_extension": ".py",
   "mimetype": "text/x-python",
   "name": "python",
   "nbconvert_exporter": "python",
   "pygments_lexer": "ipython3",
   "version": "3.9.0"
  },
  "orig_nbformat": 4
 },
 "nbformat": 4,
 "nbformat_minor": 2
}
